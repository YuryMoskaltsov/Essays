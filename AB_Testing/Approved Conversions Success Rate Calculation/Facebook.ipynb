{
 "cells": [
  {
   "cell_type": "code",
   "execution_count": 78,
   "metadata": {},
   "outputs": [],
   "source": [
    "import numpy as np\n",
    "import pandas as pd\n",
    "from matplotlib import pyplot as plt\n",
    "import seaborn as sns"
   ]
  },
  {
   "cell_type": "code",
   "execution_count": 81,
   "metadata": {},
   "outputs": [
    {
     "name": "stdout",
     "output_type": "stream",
     "text": [
      "/Users/yurymoskaltsov/Documents/Data Science/Datasets/Facebook Ads\n"
     ]
    }
   ],
   "source": [
    "cd /Users/yurymoskaltsov/Documents/Data Science/datasets/\"Facebook ads\""
   ]
  },
  {
   "cell_type": "code",
   "execution_count": 82,
   "metadata": {},
   "outputs": [
    {
     "name": "stdout",
     "output_type": "stream",
     "text": [
      "(1143, 15)\n",
      "    ad_id reporting_start reporting_end campaign_id fb_campaign_id    age  \\\n",
      "0  708746      17/08/2017    17/08/2017         916         103916  30-34   \n",
      "1  708749      17/08/2017    17/08/2017         916         103917  30-34   \n",
      "2  708771      17/08/2017    17/08/2017         916         103920  30-34   \n",
      "3  708815      30/08/2017    30/08/2017         916         103928  30-34   \n",
      "4  708818      17/08/2017    17/08/2017         916         103928  30-34   \n",
      "\n",
      "  gender  interest1  interest2  interest3  impressions  clicks  spent  \\\n",
      "0      M         15         17         17       7350.0       1   1.43   \n",
      "1      M         16         19         21      17861.0       2   1.82   \n",
      "2      M         20         25         22        693.0       0   0.00   \n",
      "3      M         28         32         32       4259.0       1   1.25   \n",
      "4      M         28         33         32       4133.0       1   1.29   \n",
      "\n",
      "   total_conversion  approved_conversion  \n",
      "0               2.0                  1.0  \n",
      "1               2.0                  0.0  \n",
      "2               1.0                  0.0  \n",
      "3               1.0                  0.0  \n",
      "4               1.0                  1.0  \n"
     ]
    }
   ],
   "source": [
    "df = pd.read_csv('facebook_ads_dataset.csv')\n",
    "print(df.shape)\n",
    "print(df.head(5))"
   ]
  },
  {
   "cell_type": "code",
   "execution_count": 91,
   "metadata": {},
   "outputs": [
    {
     "name": "stdout",
     "output_type": "stream",
     "text": [
      "1143\n",
      "7\n"
     ]
    }
   ],
   "source": [
    "print(df.ad_id.nunique())\n",
    "print(df.campaign_id.nunique())\n",
    "unique_campaigns = np.unique(df.campaign_id, return_counts = True)"
   ]
  },
  {
   "cell_type": "markdown",
   "metadata": {},
   "source": [
    "Number of dataframe rows is equal to number of unique_ads. That way we can make sure that every ad is really unique."
   ]
  },
  {
   "cell_type": "code",
   "execution_count": 84,
   "metadata": {},
   "outputs": [
    {
     "name": "stdout",
     "output_type": "stream",
     "text": [
      "  campaign_id  approved_conversion\n",
      "0        1178                378.0\n",
      "1       30-34                  0.0\n",
      "2       35-39                  0.0\n",
      "3       40-44                  0.0\n",
      "4       45-49                  0.0\n",
      "5         916                 24.0\n",
      "6         936                183.0\n"
     ]
    }
   ],
   "source": [
    "campaign_id_to_appr_conversion = df.groupby('campaign_id').approved_conversion.sum().reset_index()\n",
    "print(campaign_id_to_appr_conversion)"
   ]
  },
  {
   "cell_type": "markdown",
   "metadata": {},
   "source": [
    "So the data is cleaned. Now we only see the two columns \"campaign_id\" and \"approved_conversion\". So we can see which campaign was more successfull in making active customers out of the ad viewers. However, rows 1 to 4 have zero conversion rate and these campaigns are not interesting at all, moreover the format of values in these rows indicates that there might have been a clash with age column, so let's go ahead and remove all the columns that have 0 approved conversion."
   ]
  },
  {
   "cell_type": "markdown",
   "metadata": {},
   "source": [
    "This way we are left with rows that are relevant to us. Let's go ahead and create a new column that will show us the success percentage for each campaign."
   ]
  },
  {
   "cell_type": "code",
   "execution_count": 85,
   "metadata": {},
   "outputs": [
    {
     "name": "stdout",
     "output_type": "stream",
     "text": [
      "  campaign_id  approved_conversion\n",
      "0        1178                378.0\n",
      "5         916                 24.0\n",
      "6         936                183.0\n"
     ]
    }
   ],
   "source": [
    "for i in range(len(campaign_id_to_appr_conversion.approved_conversion)):\n",
    "    if campaign_id_to_appr_conversion.approved_conversion[i] == 0:\n",
    "        campaign_id_to_appr_conversion.drop(i, axis = 0,inplace = True)\n",
    "campaign_id_to_appr_conversion.reset_index()\n",
    "print(campaign_id_to_appr_conversion)\n"
   ]
  },
  {
   "cell_type": "code",
   "execution_count": 86,
   "metadata": {},
   "outputs": [
    {
     "name": "stdout",
     "output_type": "stream",
     "text": [
      "  campaign_id  approved_conversion  success_percentage\n",
      "0        1178                378.0            0.646154\n",
      "5         916                 24.0            0.041026\n",
      "6         936                183.0            0.312821\n"
     ]
    }
   ],
   "source": [
    "campaign_id_to_appr_conversion[\"success_percentage\"] = campaign_id_to_appr_conversion.approved_conversion / campaign_id_to_appr_conversion.approved_conversion.sum()\n",
    "print(campaign_id_to_appr_conversion)"
   ]
  },
  {
   "cell_type": "markdown",
   "metadata": {},
   "source": [
    "We have a success rate, however in the very beginning we saw that the number of the ads per campaign was not equal, so the table above could be hugely misleading if we start interpreting it as is. In order for it to represent success more accurately we need to assign weights to each campaign based on the number of unique ads each of them had. We saw in the beginning that campaigns 1178, 916 and 936 had 243, 54, and 464 unique values, so we have to assign weight to them accordingly. "
   ]
  },
  {
   "cell_type": "code",
   "execution_count": 87,
   "metadata": {},
   "outputs": [
    {
     "name": "stdout",
     "output_type": "stream",
     "text": [
      "  campaign_id  approved_conversion  success_percentage  weights_percentage\n",
      "0        1178                378.0            0.646154            0.319317\n",
      "5         916                 24.0            0.041026            0.070959\n",
      "6         936                183.0            0.312821            0.609724\n"
     ]
    }
   ],
   "source": [
    "campaign_id_to_appr_conversion[\"weights\"] = [243,54,464]\n",
    "campaign_id_to_appr_conversion[\"weights_percentage\"] = campaign_id_to_appr_conversion.weights/campaign_id_to_appr_conversion.weights.sum()\n",
    "campaign_id_to_appr_conversion.drop(\"weights\", axis = 1, inplace = True)\n",
    "print(campaign_id_to_appr_conversion)"
   ]
  },
  {
   "cell_type": "code",
   "execution_count": 88,
   "metadata": {},
   "outputs": [
    {
     "name": "stdout",
     "output_type": "stream",
     "text": [
      "  campaign_id  approved_conversion  success_percentage  weights_percentage  \\\n",
      "0        1178                378.0            0.646154            0.319317   \n",
      "5         916                 24.0            0.041026            0.070959   \n",
      "6         936                183.0            0.312821            0.609724   \n",
      "\n",
      "   success_rate  \n",
      "0      2.023552  \n",
      "5      0.578158  \n",
      "6      0.513053  \n"
     ]
    }
   ],
   "source": [
    "campaign_id_to_appr_conversion[\"success_rate\"] = campaign_id_to_appr_conversion[\"success_percentage\"] / campaign_id_to_appr_conversion[\"weights_percentage\"]\n",
    "print(campaign_id_to_appr_conversion)"
   ]
  },
  {
   "cell_type": "markdown",
   "metadata": {},
   "source": [
    "Success rate unlike success_percentage takes into account weights of each campaign. In order not to confuse the potential viewers let's remove all the columns apart from the succes rate."
   ]
  },
  {
   "cell_type": "code",
   "execution_count": 89,
   "metadata": {},
   "outputs": [
    {
     "name": "stdout",
     "output_type": "stream",
     "text": [
      "  campaign_id  success_rate\n",
      "0        1178      2.023552\n",
      "5         916      0.578158\n",
      "6         936      0.513053\n"
     ]
    }
   ],
   "source": [
    "campaign_id_to_appr_conversion.drop([\"approved_conversion\", \"success_percentage\", \"weights_percentage\"], axis = 1, inplace = True)\n",
    "print(campaign_id_to_appr_conversion)"
   ]
  },
  {
   "cell_type": "code",
   "execution_count": 90,
   "metadata": {},
   "outputs": [
    {
     "data": {
      "image/png": "[encoded data removed]",
      "text/plain": [
       "<Figure size 432x288 with 1 Axes>"
      ]
     },
     "metadata": {},
     "output_type": "display_data"
    }
   ],
   "source": [
    "sns.barplot(data = campaign_id_to_appr_conversion, x = \"campaign_id\", y = \"success_rate\")\n",
    "plt.xlabel(\"Campaign ID\", fontsize = 15)\n",
    "plt.ylabel(\"Success Rate\", fontsize = 15)\n",
    "plt.title(\"Approved Conversion Ratio\", fontsize = 23, fontweight = \"bold\")\n",
    "sns.set_palette(\"pastel\")\n",
    "\n"
   ]
  }
 ],
 "metadata": {
  "kernelspec": {
   "display_name": "Python 3",
   "language": "python",
   "name": "python3"
  },
  "language_info": {
   "codemirror_mode": {
    "name": "ipython",
    "version": 3
   },
   "file_extension": ".py",
   "mimetype": "text/x-python",
   "name": "python",
   "nbconvert_exporter": "python",
   "pygments_lexer": "ipython3",
   "version": "3.7.0"
  }
 },
 "nbformat": 4,
 "nbformat_minor": 2
}
